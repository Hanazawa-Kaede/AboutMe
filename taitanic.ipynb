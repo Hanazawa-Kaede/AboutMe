{
  "nbformat": 4,
  "nbformat_minor": 0,
  "metadata": {
    "colab": {
      "name": "taitanic.ipynb",
      "provenance": [],
      "collapsed_sections": [],
      "authorship_tag": "ABX9TyPRgA2QSRRZS/Ahh9ZylZ0h",
      "include_colab_link": true
    },
    "kernelspec": {
      "name": "python3",
      "display_name": "Python 3"
    },
    "language_info": {
      "name": "python"
    }
  },
  "cells": [
    {
      "cell_type": "markdown",
      "metadata": {
        "id": "view-in-github",
        "colab_type": "text"
      },
      "source": [
        "<a href=\"https://colab.research.google.com/github/kaedehana/Flash-Mental-calculation/blob/master/taitanic.ipynb\" target=\"_parent\"><img src=\"https://colab.research.google.com/assets/colab-badge.svg\" alt=\"Open In Colab\"/></a>"
      ]
    },
    {
      "cell_type": "markdown",
      "metadata": {
        "id": "eB80no3lgzcq"
      },
      "source": [
        "**プログラミング言語I   titanic号に関するデータ処理，統計処理について**\n",
        "\n",
        "情報工学科4年 18-430 花澤楓\n",
        "\n",
        "# 1. はじめに\n",
        "　本レポートでは[Kaggle](https://www.kaggle.com/c/titanic/data)からダウンロードしたデータを用いてどのような特徴を持つ人が最後に生存したのかを調査したものをレポートする．使用したデータは以下の3つである．\n",
        "\n",
        "\n",
        "*   gender_submission.csv\n",
        "*   test.csv\n",
        "*   train.csv\n",
        "\n",
        "　\n",
        "また，提供されているデータ一覧とその値の意味について以下に示す．\n",
        "\n",
        "\n",
        "*  PassengerId\t識別ユニークID\n",
        "*   Survived\t生存(1)or落命(0)\n",
        "*   Pclass\t旅客等級\n",
        "*  Name\t名前\n",
        "*Sex\t性別\n",
        "*Age\t年齢\n",
        "*SibSp 同乗中の兄弟/配偶者の数\n",
        "*Parch\t同乗中の親/子供の数\n",
        "*Ticket\tチケット番号\n",
        "*Fare\t料金\n",
        "*Cabin\t客室番号\n",
        "*Embarked\t出発港"
      ]
    },
    {
      "cell_type": "markdown",
      "metadata": {
        "id": "M7xPsdiznWQK"
      },
      "source": [
        "　提供されているデータの中で，特に**料金と旅客等級**は部屋のグレードに関係していて，最後生存するかどうかに関わりそうだと踏んだ．また，**客室番号**から船が沈没した際の脱出の難易度もわかる（窓が近くになかったりすると脱出に時間がかかるのでは（？））ので，同じく影響しそうだと考えた．それらに加えて，脱出する際に必要な力に大きく関わるであろう**年齢**．そこでこの4つのパラメータとSurvivedとの関係を見ていこうと思う．\n"
      ]
    },
    {
      "cell_type": "markdown",
      "metadata": {
        "id": "A6Z2JxFNnJk-"
      },
      "source": [
        "# 2. 前処理"
      ]
    },
    {
      "cell_type": "markdown",
      "metadata": {
        "id": "jildQwmVqBab"
      },
      "source": [
        "今回は年齢，料金，旅客等級，客室番号の4つを入力変数（x）とした時に目標値（t）である生存or落命を予測する，重回帰分析を用いて統計処理を行なってみる．（重回帰分析に関してはこれらを参考にした．[7. 単回帰分析と重回帰分析](https://tutorials.chainer.org/ja/07_Regression_Analysis.html)，[9. scikit-learn 入門](https://tutorials.chainer.org/ja/09_Introduction_to_Scikit-learn.html)）\n",
        "そのための前処理を以下で行う．　\n",
        "\n",
        "\n",
        "まず，train.csvの中身を見て，各データの欠損値の有無を調べる．"
      ]
    },
    {
      "cell_type": "code",
      "metadata": {
        "colab": {
          "base_uri": "https://localhost:8080/"
        },
        "id": "OWZ7zM0rgiUA",
        "outputId": "d7fa133a-f5ef-4b44-e32d-999afd3c3ea2"
      },
      "source": [
        "import pandas as pd\n",
        "import numpy as np\n",
        "import matplotlib.pyplot as plt\n",
        "\n",
        "df = pd.read_csv('train.csv')\n",
        "df.count()"
      ],
      "execution_count": 2,
      "outputs": [
        {
          "output_type": "execute_result",
          "data": {
            "text/plain": [
              "PassengerId    891\n",
              "Survived       891\n",
              "Pclass         891\n",
              "Name           891\n",
              "Sex            891\n",
              "Age            714\n",
              "SibSp          891\n",
              "Parch          891\n",
              "Ticket         891\n",
              "Fare           891\n",
              "Cabin          204\n",
              "Embarked       889\n",
              "dtype: int64"
            ]
          },
          "metadata": {
            "tags": []
          },
          "execution_count": 2
        }
      ]
    },
    {
      "cell_type": "markdown",
      "metadata": {
        "id": "D7-qv5KCsXuy"
      },
      "source": [
        "以上の出力結果から，**Age**と**Cabin**には多くの欠損値があることが判明した．\n",
        "Cabinは約23%しかデータが存在しないので，正確な統計処理はできないと考えて除外して考える．**Age**に関しては約80%ものデータがあるため，欠損している値は補完して考えることにする．\n",
        "\n",
        "ここで，どのような値を補完するのが適切か以下でみていく．まず，**Age**の値分布を見る．"
      ]
    },
    {
      "cell_type": "code",
      "metadata": {
        "colab": {
          "base_uri": "https://localhost:8080/",
          "height": 333
        },
        "id": "q1W0WYx_qkI3",
        "outputId": "d1183464-68d0-43c2-de81-3a32c1fa51cd"
      },
      "source": [
        "plt.hist(df['Age'])"
      ],
      "execution_count": 3,
      "outputs": [
        {
          "output_type": "execute_result",
          "data": {
            "text/plain": [
              "(array([ 54.,  46., 177., 169., 118.,  70.,  45.,  24.,   9.,   2.]),\n",
              " array([ 0.42 ,  8.378, 16.336, 24.294, 32.252, 40.21 , 48.168, 56.126,\n",
              "        64.084, 72.042, 80.   ]),\n",
              " <a list of 10 Patch objects>)"
            ]
          },
          "metadata": {
            "tags": []
          },
          "execution_count": 3
        },
        {
          "output_type": "display_data",
          "data": {
            "image/png": "[encoded data removed]",
            "text/plain": [
              "<Figure size 432x288 with 1 Axes>"
            ]
          },
          "metadata": {
            "tags": [],
            "needs_background": "light"
          }
        }
      ]
    },
    {
      "cell_type": "code",
      "metadata": {
        "colab": {
          "base_uri": "https://localhost:8080/"
        },
        "id": "ZPVdZZamwKL9",
        "outputId": "874b8dda-1fdc-4941-fe04-a6c7fd808141"
      },
      "source": [
        "#平均\n",
        "df['Age'].mean()"
      ],
      "execution_count": 4,
      "outputs": [
        {
          "output_type": "execute_result",
          "data": {
            "text/plain": [
              "29.69911764705882"
            ]
          },
          "metadata": {
            "tags": []
          },
          "execution_count": 4
        }
      ]
    },
    {
      "cell_type": "code",
      "metadata": {
        "colab": {
          "base_uri": "https://localhost:8080/"
        },
        "id": "Z9js7BRFwWjw",
        "outputId": "8d0d262a-c1ef-4d1c-cd27-71454e76031e"
      },
      "source": [
        "#中央値\n",
        "df['Age'].median()"
      ],
      "execution_count": 5,
      "outputs": [
        {
          "output_type": "execute_result",
          "data": {
            "text/plain": [
              "28.0"
            ]
          },
          "metadata": {
            "tags": []
          },
          "execution_count": 5
        }
      ]
    },
    {
      "cell_type": "code",
      "metadata": {
        "colab": {
          "base_uri": "https://localhost:8080/"
        },
        "id": "KoJrSBP3yD_P",
        "outputId": "3a166696-35b9-49af-a31f-a5890a9c9bc4"
      },
      "source": [
        "#最頻値\n",
        "df['Age'].mode()"
      ],
      "execution_count": 6,
      "outputs": [
        {
          "output_type": "execute_result",
          "data": {
            "text/plain": [
              "0    24.0\n",
              "dtype: float64"
            ]
          },
          "metadata": {
            "tags": []
          },
          "execution_count": 6
        }
      ]
    },
    {
      "cell_type": "markdown",
      "metadata": {
        "id": "gvl4MRe8wjOS"
      },
      "source": [
        "以上より，平均値も中央値もほぼ同じ値になったが最頻値のみ少し値が異なった．正直どの値が最も適切かはわからないのでとりあえず中央値で補完してみることにする．"
      ]
    },
    {
      "cell_type": "code",
      "metadata": {
        "colab": {
          "base_uri": "https://localhost:8080/"
        },
        "id": "5qWkbIJBwYwC",
        "outputId": "51f2fd2f-45d3-4acf-8914-942d26160a02"
      },
      "source": [
        "df['Age'].fillna(df['Age'].median(),inplace=True)\n",
        "df.count()"
      ],
      "execution_count": 20,
      "outputs": [
        {
          "output_type": "execute_result",
          "data": {
            "text/plain": [
              "PassengerId    891\n",
              "Survived       891\n",
              "Pclass         891\n",
              "Name           891\n",
              "Sex            891\n",
              "Age            891\n",
              "SibSp          891\n",
              "Parch          891\n",
              "Ticket         891\n",
              "Fare           891\n",
              "Cabin          204\n",
              "Embarked       889\n",
              "dtype: int64"
            ]
          },
          "metadata": {
            "tags": []
          },
          "execution_count": 20
        }
      ]
    },
    {
      "cell_type": "markdown",
      "metadata": {
        "id": "vnN8COREASFJ"
      },
      "source": [
        "fillnaの引数にinplaceをTrueにすることでdfの**Age**を中央値で補完することができた．"
      ]
    },
    {
      "cell_type": "markdown",
      "metadata": {
        "id": "w-ByibtFK9ED"
      },
      "source": [
        "titanic号のデータ入力値の値の範囲は Age, Fare, Pclassといった指標ごとに大きく異なっており，単位も異なるため，各入力変数ごとに平均が 0，分散が 1 となるように値をスケーリングする**標準化** (standardization) を行うことで入力変数の**正規化**を行う．\n",
        "\n",
        "まずは，入力変数（Pclass,Age,Fare）をxとして格納，その後にxを正規化していく．"
      ]
    },
    {
      "cell_type": "code",
      "metadata": {
        "colab": {
          "base_uri": "https://localhost:8080/"
        },
        "id": "rV2TsYJbJRdX",
        "outputId": "6403b981-6752-433c-8943-d39f4c49abb2"
      },
      "source": [
        "from sklearn.preprocessing import StandardScaler\n",
        "x = df[['Pclass','Age','Fare']]\n",
        "t = df[['Survived']]\n",
        "scaler = StandardScaler()\n",
        "scaler.fit(x)"
      ],
      "execution_count": 21,
      "outputs": [
        {
          "output_type": "execute_result",
          "data": {
            "text/plain": [
              "StandardScaler(copy=True, with_mean=True, with_std=True)"
            ]
          },
          "metadata": {
            "tags": []
          },
          "execution_count": 21
        }
      ]
    },
    {
      "cell_type": "code",
      "metadata": {
        "id": "ibfLCeSuNspR"
      },
      "source": [
        "x_scaled = scaler.transform(x)"
      ],
      "execution_count": 22,
      "outputs": []
    },
    {
      "cell_type": "markdown",
      "metadata": {
        "id": "FRfAp8sOOYva"
      },
      "source": [
        "以上のコードで標準化は行われたので結果を確認してみる．"
      ]
    },
    {
      "cell_type": "code",
      "metadata": {
        "colab": {
          "base_uri": "https://localhost:8080/"
        },
        "id": "k4vEYvldOgCy",
        "outputId": "825d03ac-d944-45ce-8339-f5dfaa773a8d"
      },
      "source": [
        "scaler.fit(x_scaled)\n",
        "#平均(0)\n",
        "scaler.mean_"
      ],
      "execution_count": 23,
      "outputs": [
        {
          "output_type": "execute_result",
          "data": {
            "text/plain": [
              "array([-8.77213254e-17,  2.27277979e-16,  3.98733297e-18])"
            ]
          },
          "metadata": {
            "tags": []
          },
          "execution_count": 23
        }
      ]
    },
    {
      "cell_type": "code",
      "metadata": {
        "colab": {
          "base_uri": "https://localhost:8080/"
        },
        "id": "7OIQ3XRYOnEF",
        "outputId": "3cd9e582-f8f6-4af6-b734-91639ae09037"
      },
      "source": [
        "#分散(1)\n",
        "scaler.var_"
      ],
      "execution_count": 24,
      "outputs": [
        {
          "output_type": "execute_result",
          "data": {
            "text/plain": [
              "array([1., 1., 1.])"
            ]
          },
          "metadata": {
            "tags": []
          },
          "execution_count": 24
        }
      ]
    },
    {
      "cell_type": "markdown",
      "metadata": {
        "id": "Kzk2lzONBnSU"
      },
      "source": [
        "# 3. 統計処理\n"
      ]
    },
    {
      "cell_type": "markdown",
      "metadata": {
        "id": "mXdczxNtPKjv"
      },
      "source": [
        "scikit-learn で重回帰分析を行うためにLinearRegression クラスを使用する．"
      ]
    },
    {
      "cell_type": "code",
      "metadata": {
        "colab": {
          "base_uri": "https://localhost:8080/"
        },
        "id": "fdLd5KIX_8pL",
        "outputId": "0ef56ecb-79b8-4836-a460-97c93498adc0"
      },
      "source": [
        "from sklearn.linear_model import LinearRegression\n",
        "\n",
        "# モデルの定義\n",
        "reg_model = LinearRegression()\n",
        "# モデルの訓練\n",
        "reg_model.fit(x_scaled, t)"
      ],
      "execution_count": 25,
      "outputs": [
        {
          "output_type": "execute_result",
          "data": {
            "text/plain": [
              "LinearRegression(copy_X=True, fit_intercept=True, n_jobs=None, normalize=False)"
            ]
          },
          "metadata": {
            "tags": []
          },
          "execution_count": 25
        }
      ]
    },
    {
      "cell_type": "code",
      "metadata": {
        "colab": {
          "base_uri": "https://localhost:8080/"
        },
        "id": "BeQQ-TRCydpO",
        "outputId": "8498e816-d785-4d89-a620-1ba853cc5769"
      },
      "source": [
        "# 訓練後のパラメータ w\n",
        "reg_model.coef_"
      ],
      "execution_count": 26,
      "outputs": [
        {
          "output_type": "execute_result",
          "data": {
            "text/plain": [
              "array([[-0.1763947 , -0.09513991,  0.03740324]])"
            ]
          },
          "metadata": {
            "tags": []
          },
          "execution_count": 26
        }
      ]
    },
    {
      "cell_type": "code",
      "metadata": {
        "colab": {
          "base_uri": "https://localhost:8080/"
        },
        "id": "YKyPGFZvy2lh",
        "outputId": "a1545e41-4e88-4067-cccc-f5db88632a67"
      },
      "source": [
        "# 訓練後のバイアス b\n",
        "reg_model.intercept_"
      ],
      "execution_count": 27,
      "outputs": [
        {
          "output_type": "execute_result",
          "data": {
            "text/plain": [
              "array([0.38383838])"
            ]
          },
          "metadata": {
            "tags": []
          },
          "execution_count": 27
        }
      ]
    },
    {
      "cell_type": "code",
      "metadata": {
        "colab": {
          "base_uri": "https://localhost:8080/"
        },
        "id": "jR18IHh5y757",
        "outputId": "548e5787-4f4b-4798-e111-4683e4129b6a"
      },
      "source": [
        "# 精度の検証\n",
        "reg_model.score(x_scaled, t)"
      ],
      "execution_count": 28,
      "outputs": [
        {
          "output_type": "execute_result",
          "data": {
            "text/plain": [
              "0.15525998436924082"
            ]
          },
          "metadata": {
            "tags": []
          },
          "execution_count": 28
        }
      ]
    },
    {
      "cell_type": "markdown",
      "metadata": {
        "id": "Ij96zWqV7LmO"
      },
      "source": [
        "驚くべきことにかなり少ない精度が検出されてしまった．理由として考えられるのは，Survivedは0か1であり，重回帰分析で予測するには値が中途半端になるためscoreも低くなってしまうのではないかと考えた．\n",
        "\n",
        "とりあえずこれをtest.csvに適応して値を確認してみる．"
      ]
    },
    {
      "cell_type": "code",
      "metadata": {
        "colab": {
          "base_uri": "https://localhost:8080/"
        },
        "id": "Q593oNCrzgUf",
        "outputId": "deafca19-293b-4ca3-ad19-4002cfcf7952"
      },
      "source": [
        "df1 = pd.read_csv('test.csv')\n",
        "x_test = df1[['Pclass','Age','Fare']]\n",
        "reg_model.predict(x_test[:1])"
      ],
      "execution_count": 29,
      "outputs": [
        {
          "output_type": "execute_result",
          "data": {
            "text/plain": [
              "array([[-3.13483529]])"
            ]
          },
          "metadata": {
            "tags": []
          },
          "execution_count": 29
        }
      ]
    },
    {
      "cell_type": "markdown",
      "metadata": {
        "id": "dwBE5KSEVZqB"
      },
      "source": [
        "test.csvの1つ目を予測したところ，-3.12483529と0から離れた値となっている．"
      ]
    },
    {
      "cell_type": "markdown",
      "metadata": {
        "id": "KW3JQ78eWEf8"
      },
      "source": [
        "# 4. 考察\n",
        "重回帰分析を用いて**Survived**の値予測を行なったが，入力変数が**Pclass,Age,Fare**の3つだと精度に欠け，値が予測しづらいことがわかった．そこで，より**Survived**と相関が強そうな**Pclass**のみの場合と，**Pclass,Age**の2つの入力値の場合の単・重回帰分析の結果を以下に出力する．"
      ]
    },
    {
      "cell_type": "code",
      "metadata": {
        "colab": {
          "base_uri": "https://localhost:8080/"
        },
        "id": "gYZ3LDjGVZPz",
        "outputId": "8a294c69-ed6f-46c1-fd63-0d556b0ae1d8"
      },
      "source": [
        "# Pclassのみ\n",
        "x_pclass = df[['Pclass']]\n",
        "scaler = StandardScaler()\n",
        "scaler.fit(x_pclass)\n",
        "x_scaled = scaler.transform(x_pclass)\n",
        "\n",
        "# モデルの訓練\n",
        "reg_model.fit(x_scaled, t)\n",
        "# 精度の検証\n",
        "reg_model.score(x_scaled, t)"
      ],
      "execution_count": 34,
      "outputs": [
        {
          "output_type": "execute_result",
          "data": {
            "text/plain": [
              "0.11456941170524182"
            ]
          },
          "metadata": {
            "tags": []
          },
          "execution_count": 34
        }
      ]
    },
    {
      "cell_type": "code",
      "metadata": {
        "colab": {
          "base_uri": "https://localhost:8080/"
        },
        "id": "scgr41mWeJ2H",
        "outputId": "4a7f7ff6-84e1-47c3-d64a-11cc5e0ff73d"
      },
      "source": [
        "# Pclass,Ageの2つの場合\n",
        "x_2 = df[['Pclass','Age']]\n",
        "scaler = StandardScaler()\n",
        "scaler.fit(x_2)\n",
        "x_scaled = scaler.transform(x_2)\n",
        "\n",
        "# モデルの訓練\n",
        "reg_model.fit(x_scaled, t)\n",
        "# 精度の検証\n",
        "reg_model.score(x_scaled, t)"
      ],
      "execution_count": 35,
      "outputs": [
        {
          "output_type": "execute_result",
          "data": {
            "text/plain": [
              "0.15118509634493238"
            ]
          },
          "metadata": {
            "tags": []
          },
          "execution_count": 35
        }
      ]
    },
    {
      "cell_type": "markdown",
      "metadata": {
        "id": "8uhxaRXTegbO"
      },
      "source": [
        "Pclassのみ，Pclass,Ageの2つの場合の両者で入力変数が3つだった時よりも精度が落ちていることがわかった．\n",
        "\n",
        "入力変数---------------精度\n",
        "\n",
        "Pclass-------------------0.11456941170524182\n",
        "\n",
        "Pclass,Age------------0.15118509634493238\n",
        "\n",
        "Pclass,Age,Fare----0.15525998436924082\n",
        "\n",
        "# 5.結果\n",
        "以上の結果から入力変数が3つの時が最も精度が高くなることがわかった．しかし，それでも依然として精度は低いので重回帰分析はtitanic号の分析に関して適切な方法ではなかったのかもしれないと考えた．"
      ]
    }
  ]
}